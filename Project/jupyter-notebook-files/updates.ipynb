{
 "cells": [
  {
   "cell_type": "markdown",
   "metadata": {
    "collapsed": true
   },
   "source": [
    "# Social License to Operate Triple-Bottom-Line Topic Classification\n",
    "## Project Updates (since walkthrough)"
   ]
  },
  {
   "cell_type": "markdown",
   "metadata": {},
   "source": [
    "\n",
    "<span style=\"font-family:Arial; font-size:1.2em;\">\n",
    "    \n",
    "There hasn't been much in the way of substantial updates since the walkthrough.  I implemented 5-fold cross-validation metrics for each Classifier and made some other minor tweaks to the codebase in terms of the output format.  I also edited the Jupyter notebook files for showcase(demo.ipynb and showcase(demo2).ipynb as well as added showcase(metrics).ipynb.  Showcase(metrics).ipynb provides a more readable cut-down version of all the possible metrics, visualizations, and other outputs that can be displayed with all debug variables and other toggle variables enabled.  I've just started looking into implementing Keras neural networks, such as an RNN but it isn't in a functional state as of yet.  I imagine this will happen at some point during summer research after finals are over.  I also made some updates to the README.md to reflect the above changes that were made.</p>\n",
    "\n",
    "</span>"
   ]
  },
  {
   "cell_type": "code",
   "execution_count": null,
   "metadata": {},
   "outputs": [],
   "source": []
  }
 ],
 "metadata": {
  "kernelspec": {
   "display_name": "Python 3",
   "language": "python",
   "name": "python3"
  },
  "language_info": {
   "codemirror_mode": {
    "name": "ipython",
    "version": 3
   },
   "file_extension": ".py",
   "mimetype": "text/x-python",
   "name": "python",
   "nbconvert_exporter": "python",
   "pygments_lexer": "ipython3",
   "version": "3.6.8"
  }
 },
 "nbformat": 4,
 "nbformat_minor": 1
}
