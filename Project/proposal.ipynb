{
 "cells": [
  {
   "cell_type": "markdown",
   "metadata": {
    "collapsed": true,
    "pycharm": {
     "is_executing": false
    }
   },
   "source": [
    "# Final Project Proposal - Draft 1 - Vision Statement"
   ]
  },
  {
   "cell_type": "markdown",
   "metadata": {},
   "source": [
    "### by Joseph Jinn"
   ]
  },
  {
   "cell_type": "raw",
   "metadata": {},
   "source": [
    "Project Domain:\n",
    "\n",
    "\tUse Keras to implement deep neural networks to do SLO topic classification over the standard TBL topics using Tweets relating to mining companies:\n",
    "\n",
    "    \tEnvironmental\n",
    "    \tEconomic \n",
    "    \tSocial \n",
    "\n",
    "\tSocial License to Operate (SLO) – refers to the ongoing acceptance of a company or industry’s standard business practices and operating procedures by its employees, stakeholders, and the general public.\n",
    "\n",
    "\tTriple Bottom Line (TBL) – a framework or theory that recommends that companies commit to focus on social and environmental concerns just as they do on profits.\n",
    "    \n",
    "    \tGauges a corporation’s level of commitment to corporate social responsibility and its impact on the environment over time.\n",
    "\n",
    "\tResources:\n",
    "    \thttps://www.investopedia.com/terms/s/social-license-slo.asp\n",
    "    \thttps://www.investopedia.com/terms/t/triple-bottom-line.asp\n",
    "    \tClassifying Stance Using Profile Texts – Anonymous ACL submission\n",
    "\n",
    "Project Ideas:\n",
    "\n",
    "\tIf necessary, manually hand-tag a new dataset to create training, validation, and test subsets for use in SLO topic classification.\n",
    "\tEnable GPU support for Keras Tensorflow back-end for training the model.\n",
    "\tParallelize GPU support for Keras Tensorflow back-end for training the model.\n",
    "\tI guess what I’ll actually be doing will depend on what the next step is in taking this idea further.\n",
    "\n",
    "\n",
    "\n",
    "Framing the Problem (from Google Machine Learning Problem Framing):\n",
    "\n",
    "The machine learning model should be able to correctly identify whether the Tweet is positively oriented or negatively oriented as an environmental topic, economic topic, or social topic.\n",
    "\n",
    "The ideal outcome is such that the model predicts with 90%+ confidence the orientation (positive or negative) and type of topic (environmental, economic, or social) of the Tweet.\n",
    "\n",
    "The success metric is that the probability value for the correct label is the highest among all values given by a softmax layer.\n",
    "\n",
    "The model is deemed a failure if the probability value for the correct label is not the highest among all values given by a softmax layer.\n",
    "\n",
    "The output of the machine learning model will be an array of probabilities, providing confidence values in how sure the model is that the Tweet is one of the triple-bottom-line topics.  The values should sum to a total of 1.\n",
    "\n",
    "The results will be used to help determine the Social License to Operate (SLO) of mining companies, where SLO is a measure of the company’s level of support from their constituencies.\n",
    "\n",
    "\n",
    "\n",
    "Formulating the Problem (from Google Machine Learning Problem Framing):\n",
    "\n",
    "The problem is best suited to the use of a multi-class single label classification training model.\n",
    "\n",
    "Simplifying, the training model should output for each class the probability that the Tweet belongs to that class.  This process should be performed for all classes that define all possible SLO classifications.\n",
    "\n",
    "Data (from Classifying Stance Using Profile Texts – Anonymous ACL submission .pdf document):\n",
    "\n",
    "Twitter data – raw Tweets collected from the Twitter API.\n",
    "\n",
    "\tPre-processing:\n",
    "    \tTokenize texts using the CMU Tweet Tagger.  Stop words are retained.\n",
    "    \tRemove “RT” tags marking re-tweets.\n",
    "    \tShrink character elongations except in usernames.\n",
    "    \tReplace URL’s, mentions, year/time/cash/hashtag items with placeholders.\n",
    "    \tDown-case all text.\n",
    "    \tRemove tweets that are not labelled as some variant of English either by the Twitter or by Polyglot.\n",
    "    \tRemove the tweets found to not be associated with any company.\n",
    "\n",
    "\tInputs:\n",
    "    \tInput 1: N-gram counts.\n",
    "    \tInput 2: target company name presence.\n",
    "    \tInput 3: word embeddings.\n",
    "\n",
    "\tOutputs:\n",
    "    \tSLO classification:\n",
    "    \tEnvironmental\n",
    "    \tEconomic\n",
    "    \tSocial\n",
    "\n",
    "We should initially start with:\n",
    "    \tInput 1: N-gram counts.\n"
   ]
  },
  {
   "cell_type": "code",
   "execution_count": null,
   "metadata": {},
   "outputs": [],
   "source": []
  }
 ],
 "metadata": {
  "kernelspec": {
   "display_name": "Python 3",
   "language": "python",
   "name": "python3"
  },
  "language_info": {
   "codemirror_mode": {
    "name": "ipython",
    "version": 3
   },
   "file_extension": ".py",
   "mimetype": "text/x-python",
   "name": "python",
   "nbconvert_exporter": "python",
   "pygments_lexer": "ipython3",
   "version": "3.6.8"
  }
 },
 "nbformat": 4,
 "nbformat_minor": 1
}
