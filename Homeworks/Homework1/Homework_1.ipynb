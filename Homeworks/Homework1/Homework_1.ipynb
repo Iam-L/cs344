{
 "cells": [
  {
   "cell_type": "code",
   "execution_count": null,
   "metadata": {
    "collapsed": true
   },
   "outputs": [],
   "source": [
    "Assignment: Homework 1 - Problem Solving\n",
    "Name: Joseph Jinn\n",
    "Date: 2-20-19\n",
    "Instructor: Professor Keith VanderLinden\n",
    "Course: CS - 344 - Artificial Intelligence"
   ]
  },
  {
   "cell_type": "code",
   "execution_count": null,
   "metadata": {},
   "outputs": [],
   "source": [
    "Introspection: The examination of one's own conscious thoughts and feelings.\n",
    "\n",
    "Based on Wikipedia's opening definition, it would be a good way to model human cognitive processes if the Artificial Intelligence could be defined as being already \"conscious\".\n",
    "\n",
    "Based on this relatively recent article I found, it seems researchers are already heading towards this direction:\n",
    "\n",
    "URL: https://medium.com/@jrodthoughts/whats-new-in-deep-learning-research-openai-wants-to-create-introspective-reinforcement-learning-f5d961f5760c\n",
    "\n",
    "\n",
    "The article describes applying the principle of introspection to the AI discipline of reinforcement learning (RL).  RL agents are described as starting from nothing on any learning task by relying on external feedback.  Hence, any model based on RL takes longer than human beings to learn similar tasks as human beings can assess their own progress without relying on external feedback.\n",
    "\n",
    "OpenAI, a non-profit AI research company, is doing research on how to create reinforcement learning models that can understand the concept of making progress on a task by utilizing prior experience on similar tasks in the past.  The paper is titled \"Evolved Policy Gradients (EPG)\".\n",
    "\n",
    "The URL to the particular Blog post on EPG is: \n",
    "\n",
    "https://blog.openai.com/evolved-policy-gradients/\n"
   ]
  },
  {
   "cell_type": "code",
   "execution_count": null,
   "metadata": {},
   "outputs": [],
   "source": []
  }
 ],
 "metadata": {
  "kernelspec": {
   "display_name": "Python 2",
   "language": "python",
   "name": "python2"
  },
  "language_info": {
   "codemirror_mode": {
    "name": "ipython",
    "version": 2
   },
   "file_extension": ".py",
   "mimetype": "text/x-python",
   "name": "python",
   "nbconvert_exporter": "python",
   "pygments_lexer": "ipython2",
   "version": "2.7.6"
  }
 },
 "nbformat": 4,
 "nbformat_minor": 0
}
