{
 "cells": [
  {
   "cell_type": "markdown",
   "metadata": {
    "collapsed": true,
    "pycharm": {
     "is_executing": false
    }
   },
   "source": [
    "# CS-344: Homework 04 - Classification\n",
    "\n",
    "by Joseph Jinn"
   ]
  },
  {
   "cell_type": "code",
   "execution_count": 2,
   "metadata": {},
   "outputs": [],
   "source": [
    "# TODO - revise essay for Part 1.\n",
    "# TODO - double check calculations for Part 2.\n",
    "# TODO - finish Part 3."
   ]
  },
  {
   "cell_type": "markdown",
   "metadata": {},
   "source": [
    "# Part 1: Deep Neural Networks - Bust or Breakthrough?"
   ]
  },
  {
   "cell_type": "markdown",
   "metadata": {},
   "source": [
    "Given that machine learning is one of my areas of interest for graduate studies, I sure as hell hope they aren’t going to be a bust anytime in the foreseeable future.  In my humble opinion, I believe deep neural networks still possesses significant potential for growth and research.\n",
    "\n",
    "What I really want to see are MMORPG’s (massively multiplayer online role-playing games), such as the classic example of World of Warcraft, that implement some form of advanced Artificial Intelligence.  Given the current state of that genre, AI is pretty limited in those games to scripted behavior that rely on very simple decision trees in the background.  It’s one of the reasons I don’t find MMO’s as fun as sandbox open world RPG’s like the Elder Scrolls 5: Skyrim, despite the sometimes god-awful “Radiant AI” system that governs the NPC’s.  You would think a Non-Player character should at least be able to path-find around a boulder the size of a shack.  Then again, Bethesda’s not known for its software engineering skills.\n",
    "\n",
    "I would love to feed a neural network all the 3d models of rock in Skyrim as a training set and see if I can get the network to accurately predict what constitutes a “rock” or “not a rock”.  Then, apply the resulting model to the NPC’s and see if they can now path-find their way around rocky outcroppings and not run in-place against a pebble on the ground.\n",
    "\n",
    "Searching around Google a bit, I came upon an interesting article entitled “Neural MMO: A Massively Multiagent Game Environment”.  Lo and behold, some researchers actually are implementing deep neural networks in the context of MMO’s.  What’s even better, the article is dated on March 4, 2019, so it is recent.  And far more wonderful is that the source code for their research is available on Github.  I wouldn’t mind experimenting with this sometime in the near future.\n",
    "\n",
    "Neural MMO is a “massively multi-agent game environment for reinforcement learning agents”.  The description of this model states that players (the agents) can join any available server (environment) that contains a procedurally generated tile-based game map of configurable size.  The input is described “agents observe a square crop of tiles centered on their current position – including tile terrain types and select properties (health, food, water, and position) of occupying agents.  The output is described as “agents output action choices for the next game tick (time-step) – actions consist of one movement and one attack”.\n",
    "\n",
    "Now, if only theoretical research like this can lead to practical application in developing a living, breathing world in sandbox RPG’s and MMORPG's that simulate the living ecosystem we have on Earth.  Then, I could become a NEET (“Not in Education, Employment, or Training”) and enjoy myself in a virtual environment 24/7.  Just kidding.  But hey, this still gives reason to believe that deep neural networks still have the potential for growth and research leading to more and more practical applications in our daily lives.  So hopefully, this area of AI doesn’t die off till long after I’ve obtained a Ph.D. in computer science, published a few papers, and grown old and bald, barring unforeseen fatal circumstances.\n",
    "\n",
    "URL: https://openai.com/blog/neural-mmo/\n"
   ]
  },
  {
   "cell_type": "markdown",
   "metadata": {},
   "source": [
    "# Part 2: Back-Propagation Cycle - Hand Calculation"
   ]
  },
  {
   "cell_type": "markdown",
   "metadata": {},
   "source": [
    "Page 1:\n",
    "\n",
    "<img style=\"float:center; transform: rotate(90deg); margin: 0 10px 10px 0\" src=\"hw04-part2-page1.jpg\" />"
   ]
  },
  {
   "cell_type": "markdown",
   "metadata": {},
   "source": [
    "Page 2:\n",
    "\n",
    "<img style=\"float:center; transform: rotate(90deg); margin: 0 10px 10px 0\" src=\"hw04-part2-page2.jpg\" />"
   ]
  },
  {
   "cell_type": "markdown",
   "metadata": {},
   "source": [
    "# Part 3: Keras Fashion MNIST Dataset - Keras-based Convolutional Neural Network"
   ]
  },
  {
   "cell_type": "code",
   "execution_count": 1,
   "metadata": {},
   "outputs": [
    {
     "name": "stdout",
     "output_type": "stream",
     "text": [
      "1.13.1\n",
      "Training data shape:\n",
      "(60000, 28, 28)\n",
      "Training targets shape:\n",
      "(60000,)\n",
      "Testing data shape:\n",
      "(10000, 28, 28)\n",
      "Testing targets shape:\n",
      "(10000,)\n",
      "\n",
      "Training images[0]:\n"
     ]
    },
    {
     "data": {
      "text/plain": [
       "<Figure size 640x480 with 2 Axes>"
      ]
     },
     "metadata": {},
     "output_type": "display_data"
    },
    {
     "data": {
      "text/plain": [
       "<Figure size 1000x1000 with 25 Axes>"
      ]
     },
     "metadata": {},
     "output_type": "display_data"
    },
    {
     "name": "stdout",
     "output_type": "stream",
     "text": [
      "WARNING:tensorflow:From d:\\dropbox\\cs344-ai\\venv3.6-64bit\\lib\\site-packages\\tensorflow\\python\\ops\\resource_variable_ops.py:435: colocate_with (from tensorflow.python.framework.ops) is deprecated and will be removed in a future version.\n",
      "Instructions for updating:\n",
      "Colocations handled automatically by placer.\n",
      "Epoch 1/5\n",
      "60000/60000 [==============================] - 3s 52us/sample - loss: 0.5013 - acc: 0.8223\n",
      "Epoch 2/5\n",
      "60000/60000 [==============================] - 3s 51us/sample - loss: 0.3754 - acc: 0.8645\n",
      "Epoch 3/5\n",
      "60000/60000 [==============================] - 3s 52us/sample - loss: 0.3406 - acc: 0.8762\n",
      "Epoch 4/5\n",
      "60000/60000 [==============================] - 3s 51us/sample - loss: 0.3140 - acc: 0.8852\n",
      "Epoch 5/5\n",
      "60000/60000 [==============================] - 3s 54us/sample - loss: 0.2970 - acc: 0.8909\n",
      "10000/10000 [==============================] - 0s 25us/sample - loss: 0.3516 - acc: 0.8729\n",
      "Test accuracy: 0.8729\n",
      "Prediction sample:\n",
      "[3.5832900e-06 1.5398264e-09 5.2650790e-07 4.2621298e-08 5.4822556e-07\n",
      " 4.5724940e-02 1.7849621e-06 2.1363463e-02 5.0928655e-05 9.3285418e-01]\n",
      "Highest class confidence value:\n",
      "9\n",
      "Associated test label value:\n",
      "9\n",
      "\n"
     ]
    },
    {
     "data": {
      "text/plain": [
       "<Figure size 600x300 with 2 Axes>"
      ]
     },
     "metadata": {},
     "output_type": "display_data"
    },
    {
     "data": {
      "text/plain": [
       "<Figure size 600x300 with 2 Axes>"
      ]
     },
     "metadata": {},
     "output_type": "display_data"
    },
    {
     "data": {
      "text/plain": [
       "<Figure size 1200x1000 with 30 Axes>"
      ]
     },
     "metadata": {},
     "output_type": "display_data"
    },
    {
     "name": "stdout",
     "output_type": "stream",
     "text": [
      "Image shape: \n",
      "(28, 28)\n",
      "\n",
      "Image batch shape: \n",
      "(1, 28, 28)\n",
      "\n",
      "Image batch prediction results: \n",
      "[[3.5832900e-06 1.5398235e-09 5.2650893e-07 4.2621298e-08 5.4822556e-07\n",
      "  4.5724954e-02 1.7849655e-06 2.1363463e-02 5.0928655e-05 9.3285418e-01]]\n",
      "\n"
     ]
    },
    {
     "data": {
      "text/plain": [
       "<Figure size 640x480 with 1 Axes>"
      ]
     },
     "metadata": {},
     "output_type": "display_data"
    }
   ],
   "source": [
    "\"\"\"\n",
    "Course: CS 344 - Artificial Intelligence\n",
    "Instructor: Professor VanderLinden\n",
    "Name: Joseph Jinn\n",
    "Date: 4-1-19\n",
    "\n",
    "Homework 4 - Classification\n",
    "Keras Fashion MNIST Dataset - Keras-based Convolutional Neural Network\n",
    "\n",
    "Notes:\n",
    "\n",
    "TODO - modify from basic tutorial template to be more robust.\n",
    "\n",
    "############################################\n",
    "\n",
    "Resources Used:\n",
    "\n",
    "URL: https://www.tensorflow.org/tutorials/keras/basic_classification\n",
    "(Keras tutorial)\n",
    "\n",
    "URL: https://developers.google.com/machine-learning/practica/image-classification/\n",
    "\n",
    "############################################\n",
    "\n",
    "Assignment Instructions:\n",
    "\n",
    "For this homework, do the following things:\n",
    "\n",
    "Speculate on whether you believe that so-called “deep” neural networks are destined to be another bust just as\n",
    "perceptrons and expert systems were in the past, or whether they really are a breakthrough that will be used for\n",
    "years into the future. Please give a two-to-three-paragraph answer, including examples to back up your argument.\n",
    "\n",
    "Hand-compute a single, complete backpropagation cycle. Use the example network from class and compute the updated\n",
    "weight values for the first gradient descent iteration for the AND example, i.e., [1, 1] → 0. Use the same initial\n",
    "weights we used in the class example.\n",
    "\n",
    "Build a Keras-based ConvNet for Keras’s Fashion MNIST dataset (fashion_mnist). Experiment with different network\n",
    "architectures, submit your most performant network, and report the results.\n",
    "\n",
    "\"\"\"\n",
    "############################################################################################\n",
    "\n",
    "from __future__ import absolute_import, division, print_function\n",
    "\n",
    "# TensorFlow and tf.keras\n",
    "import tensorflow as tf\n",
    "from tensorflow import keras\n",
    "\n",
    "# Helper libraries\n",
    "import numpy as np\n",
    "import matplotlib.pyplot as plt\n",
    "\n",
    "print(tf.__version__)\n",
    "\n",
    "############################################################################################\n",
    "\"\"\"\n",
    "Label\tClass\n",
    "0\tT-shirt/top\n",
    "1\tTrouser\n",
    "2\tPullover\n",
    "3\tDress\n",
    "4\tCoat\n",
    "5\tSandal\n",
    "6\tShirt\n",
    "7\tSneaker\n",
    "8\tBag\n",
    "9\tAnkle boot\n",
    "\"\"\"\n",
    "\n",
    "# Load the dataset.\n",
    "fashion_mnist = keras.datasets.fashion_mnist\n",
    "\n",
    "(train_images, train_labels), (test_images, test_labels) = fashion_mnist.load_data()\n",
    "\n",
    "# Column headers.\n",
    "class_names = ['T-shirt/top', 'Trouser', 'Pullover', 'Dress', 'Coat',\n",
    "               'Sandal', 'Shirt', 'Sneaker', 'Bag', 'Ankle boot']\n",
    "\n",
    "print(\"Training data shape:\")\n",
    "print(train_images.shape)\n",
    "print(\"Training targets shape:\")\n",
    "print(train_labels.shape)\n",
    "print(\"Testing data shape:\")\n",
    "print(test_images.shape)\n",
    "print(\"Testing targets shape:\")\n",
    "print(test_labels.shape)\n",
    "print()\n",
    "\n",
    "# Display 1st image in training set.\n",
    "print(\"Training images[0]:\")\n",
    "plt.figure()\n",
    "plt.imshow(train_images[0])\n",
    "plt.colorbar()\n",
    "plt.grid(False)\n",
    "plt.show()\n",
    "\n",
    "############################################################################################\n",
    "\"\"\"\n",
    "Pre-process dataset.\n",
    "\"\"\"\n",
    "\n",
    "train_images = train_images / 255.0\n",
    "\n",
    "test_images = test_images / 255.0\n",
    "\n",
    "# Display first 25 images in training set.\n",
    "plt.figure(figsize=(10, 10))\n",
    "for i in range(25):\n",
    "    plt.subplot(5, 5, i + 1)\n",
    "    plt.xticks([])\n",
    "    plt.yticks([])\n",
    "    plt.grid(False)\n",
    "    plt.imshow(train_images[i], cmap=plt.cm.binary)\n",
    "    plt.xlabel(class_names[train_labels[i]])\n",
    "plt.show()\n",
    "\n",
    "############################################################################################\n",
    "\"\"\"\n",
    "tf.keras.layers.Flatten - Flattens the input. Does not affect the batch size. (2-d to 1-d array)\n",
    "\n",
    "tf.keras.layers.Dense - densely-connected, or fully-connected, neural layers.\n",
    "\n",
    "10-node softmax layer—this returns an array of 10 probability scores that sum to 1\n",
    "\"\"\"\n",
    "# Setup the layers.\n",
    "model = keras.Sequential([\n",
    "    keras.layers.Flatten(input_shape=(28, 28)),\n",
    "    keras.layers.Dense(128, activation=tf.nn.relu),\n",
    "    keras.layers.Dense(10, activation=tf.nn.softmax)\n",
    "])\n",
    "\n",
    "\"\"\"\n",
    "Loss function —This measures how accurate the model is during training. \n",
    "We want to minimize this function to \"steer\" the model in the right direction.\n",
    "\n",
    "Optimizer —This is how the model is updated based on the data it sees and its loss function.\n",
    "\n",
    "Metrics —Used to monitor the training and testing steps. The following example uses accuracy, \n",
    "the fraction of the images that are correctly classified\n",
    "\"\"\"\n",
    "# Compile the model.\n",
    "model.compile(optimizer='adam',\n",
    "              loss='sparse_categorical_crossentropy',\n",
    "              metrics=['accuracy'])\n",
    "\n",
    "\"\"\"\n",
    "Feed the training data to the model—in this example, the train_images and train_labels arrays.\n",
    "\n",
    "The model learns to associate images and labels.\n",
    "\n",
    "We ask the model to make predictions about a test set—in this example, the test_images array. \n",
    "We verify that the predictions match the labels from the test_labels array.\n",
    "\"\"\"\n",
    "# Train the model.\n",
    "model.fit(train_images, train_labels, epochs=5)\n",
    "\n",
    "############################################################################################\n",
    "\"\"\"\n",
    "Evaluate accuracy.\n",
    "\"\"\"\n",
    "\n",
    "test_loss, test_acc = model.evaluate(test_images, test_labels)\n",
    "\n",
    "print('Test accuracy:', test_acc)\n",
    "\n",
    "############################################################################################\n",
    "\"\"\"\n",
    "Make predictions.\n",
    "\"\"\"\n",
    "predictions = model.predict(test_images)\n",
    "\n",
    "# Prediction sample\n",
    "print(\"Prediction sample:\")\n",
    "print(predictions[0])\n",
    "\n",
    "# Get highest confidence value from prediction array.\n",
    "print(\"Highest class confidence value:\")\n",
    "print(np.argmax(predictions[0]))\n",
    "\n",
    "# Confirm against test associated test label.\n",
    "print(\"Associated test label value:\")\n",
    "print(test_labels[0])\n",
    "\n",
    "\n",
    "############################################################################################\n",
    "\n",
    "def plot_image(i, predictions_array, true_label, img):\n",
    "    \"\"\"\n",
    "    Function outputs a graph of the image.\n",
    "\n",
    "    :param i:\n",
    "    :param predictions_array:\n",
    "    :param true_label:\n",
    "    :param img:\n",
    "    :return:\n",
    "    \"\"\"\n",
    "    predictions_array, true_label, img = predictions_array[i], true_label[i], img[i]\n",
    "    plt.grid(False)\n",
    "    plt.xticks([])\n",
    "    plt.yticks([])\n",
    "\n",
    "    plt.imshow(img, cmap=plt.cm.binary)\n",
    "\n",
    "    predicted_label = np.argmax(predictions_array)\n",
    "    if predicted_label == true_label:\n",
    "        color = 'blue'\n",
    "    else:\n",
    "        color = 'red'\n",
    "\n",
    "    plt.xlabel(\"{} {:2.0f}% ({})\".format(class_names[predicted_label],\n",
    "                                         100 * np.max(predictions_array),\n",
    "                                         class_names[true_label]),\n",
    "               color=color)\n",
    "\n",
    "\n",
    "############################################################################################\n",
    "\n",
    "def plot_value_array(i, predictions_array, true_label):\n",
    "    \"\"\"\n",
    "    Function outputs the prediction array with set of confidence values associated with classes.\n",
    "\n",
    "    :param i:\n",
    "    :param predictions_array:\n",
    "    :param true_label:\n",
    "    :return:\n",
    "    \"\"\"\n",
    "    predictions_array, true_label = predictions_array[i], true_label[i]\n",
    "    plt.grid(False)\n",
    "    plt.xticks([])\n",
    "    plt.yticks([])\n",
    "    thisplot = plt.bar(range(10), predictions_array, color=\"#777777\")\n",
    "    plt.ylim([0, 1])\n",
    "    predicted_label = np.argmax(predictions_array)\n",
    "\n",
    "    thisplot[predicted_label].set_color('red')\n",
    "    thisplot[true_label].set_color('blue')\n",
    "\n",
    "\n",
    "############################################################################################\n",
    "\n",
    "\"\"\"\n",
    "Main function.  Execute the program.\n",
    "\"\"\"\n",
    "if __name__ == '__main__':\n",
    "    print()\n",
    "\n",
    "    # Visualize 0th image, predictions, and prediction array.\n",
    "    i = 0\n",
    "    plt.figure(figsize=(6, 3))\n",
    "    plt.subplot(1, 2, 1)\n",
    "    plot_image(i, predictions, test_labels, test_images)\n",
    "    plt.subplot(1, 2, 2)\n",
    "    plot_value_array(i, predictions, test_labels)\n",
    "    plt.show()\n",
    "\n",
    "    # Visualize the 12th image, predictions, and prediction array.\n",
    "    i = 12\n",
    "    plt.figure(figsize=(6, 3))\n",
    "    plt.subplot(1, 2, 1)\n",
    "    plot_image(i, predictions, test_labels, test_images)\n",
    "    plt.subplot(1, 2, 2)\n",
    "    plot_value_array(i, predictions, test_labels)\n",
    "    plt.show()\n",
    "\n",
    "    # Plot the first X test images, their predicted label, and the true label\n",
    "    # Color correct predictions in blue, incorrect predictions in red\n",
    "    num_rows = 5\n",
    "    num_cols = 3\n",
    "    num_images = num_rows * num_cols\n",
    "    plt.figure(figsize=(2 * 2 * num_cols, 2 * num_rows))\n",
    "    for i in range(num_images):\n",
    "        plt.subplot(num_rows, 2 * num_cols, 2 * i + 1)\n",
    "        plot_image(i, predictions, test_labels, test_images)\n",
    "        plt.subplot(num_rows, 2 * num_cols, 2 * i + 2)\n",
    "        plot_value_array(i, predictions, test_labels)\n",
    "    plt.show()\n",
    "\n",
    "    # Grab an image from the test dataset\n",
    "    img = test_images[0]\n",
    "\n",
    "    print(\"Image shape: \")\n",
    "    print(img.shape)\n",
    "    print()\n",
    "\n",
    "    # Add the image to a batch where it's the only member.\n",
    "    img = (np.expand_dims(img, 0))\n",
    "\n",
    "    print(\"Image batch shape: \")\n",
    "    print(img.shape)\n",
    "    print()\n",
    "\n",
    "    # Predict the images in the batch.\n",
    "    predictions_single = model.predict(img)\n",
    "\n",
    "    print(\"Image batch prediction results: \")\n",
    "    print(predictions_single)\n",
    "    print()\n",
    "\n",
    "    # Visualize the results of the batch image predictions.\n",
    "    plot_value_array(0, predictions_single, test_labels)\n",
    "    _ = plt.xticks(range(10), class_names, rotation=45)\n",
    "    plt.show()\n",
    "\n",
    "    # Get the max confidence value result signifying which class it belongs to in the labels.\n",
    "    np.argmax(predictions_single[0])\n",
    "\n",
    "############################################################################################\n"
   ]
  },
  {
   "cell_type": "markdown",
   "metadata": {},
   "source": [
    "Fashion MNIST Sample Training Image:\n",
    "\n",
    "\n",
    "<img style=\"float:center; transform: rotate(0deg); margin: 0 10px 10px 0\" src=\"fashion_mnist_training_image[0].png\" />"
   ]
  },
  {
   "cell_type": "markdown",
   "metadata": {},
   "source": [
    "Fashion MNIST Image Preprocessing:\n",
    "\n",
    "<img style=\"float:center; transform: rotate(0deg); margin: 0 10px 10px 0\" src=\"fashion_mnist_training_images_preprocess.png\" />"
   ]
  },
  {
   "cell_type": "markdown",
   "metadata": {},
   "source": [
    "Fashion MNIST Image Prediction Array (probabilities for each class for a single example)\n",
    "\n",
    "<img style=\"float:center; transform: rotate(0deg); margin: 0 10px 10px 0\" src=\"fashion_mnist_image_prediction_array.png\" />"
   ]
  },
  {
   "cell_type": "markdown",
   "metadata": {},
   "source": [
    "Fashion MNIST Image Prediction Results (array of examples)\n",
    "\n",
    "<img style=\"float:center; transform: rotate(0deg); margin: 0 10px 10px 0\" src=\"fashion_mnist_test_images_prediction_results.png\" />"
   ]
  },
  {
   "cell_type": "code",
   "execution_count": null,
   "metadata": {},
   "outputs": [],
   "source": []
  }
 ],
 "metadata": {
  "kernelspec": {
   "display_name": "Python 3",
   "language": "python",
   "name": "python3"
  },
  "language_info": {
   "codemirror_mode": {
    "name": "ipython",
    "version": 3
   },
   "file_extension": ".py",
   "mimetype": "text/x-python",
   "name": "python",
   "nbconvert_exporter": "python",
   "pygments_lexer": "ipython3",
   "version": "3.6.8"
  }
 },
 "nbformat": 4,
 "nbformat_minor": 1
}
